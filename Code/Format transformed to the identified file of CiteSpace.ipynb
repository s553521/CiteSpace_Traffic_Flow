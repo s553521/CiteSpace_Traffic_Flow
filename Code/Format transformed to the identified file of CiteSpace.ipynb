{
 "cells": [
  {
   "cell_type": "code",
   "execution_count": 1,
   "id": "e6fa5235",
   "metadata": {},
   "outputs": [],
   "source": [
    "import re"
   ]
  },
  {
   "cell_type": "code",
   "execution_count": 3,
   "id": "c52f2148",
   "metadata": {},
   "outputs": [],
   "source": [
    "with open('..\\\\Data\\\\test_data_time_transformed.txt',encoding='utf-8-sig') as f:\n",
    "    i = 0\n",
    "    test = f.read().replace('\\n', ',')\n",
    "    pattern = re.compile('(.*?),(.*?),(.*?),(.*?),')\n",
    "    item = re.findall(pattern, test)\n",
    "    fp2 = open('..\\\\Data\\\\test_download_20140808.txt','a',encoding='UTF-8')\n",
    "    for a, b, c, d, in item:\n",
    "        fp2.write('PT J'+ '\\n')\n",
    "        fp2.write('TI {}'.format(a)+ '\\n')\n",
    "        fp2.write('SO {}'.format(a)+ '\\n')\n",
    "        fp2.write('CR {}'.format(c)+ '\\n')\n",
    "        fp2.write('TC 1'+ '\\n')\n",
    "        fp2.write('PY {}'.format(d) + '\\n')\n",
    "        fp2.write('UT'+ '\\n')\n",
    "        fp2.write('ER'+ '\\n')\n",
    "        fp2.write('\\n')\n",
    "fp2.close()"
   ]
  },
  {
   "cell_type": "code",
   "execution_count": 4,
   "id": "daf1ccb7",
   "metadata": {},
   "outputs": [],
   "source": [
    "f1 = open('..\\\\Data\\\\test_download_20140808.txt', 'r', encoding = 'utf-8')\n",
    "f2 = open('..\\\\Data\\\\test_download_20140808_over.txt', 'w', encoding = 'utf-8')\n",
    "for line in f1:\n",
    "    f2.write(line.replace('+',';'))\n",
    "f2.close()\n",
    "f1.close()"
   ]
  },
  {
   "cell_type": "code",
   "execution_count": null,
   "id": "978f1de1",
   "metadata": {},
   "outputs": [],
   "source": []
  }
 ],
 "metadata": {
  "kernelspec": {
   "display_name": "Python 3 (ipykernel)",
   "language": "python",
   "name": "python3"
  },
  "language_info": {
   "codemirror_mode": {
    "name": "ipython",
    "version": 3
   },
   "file_extension": ".py",
   "mimetype": "text/x-python",
   "name": "python",
   "nbconvert_exporter": "python",
   "pygments_lexer": "ipython3",
   "version": "3.9.12"
  }
 },
 "nbformat": 4,
 "nbformat_minor": 5
}
